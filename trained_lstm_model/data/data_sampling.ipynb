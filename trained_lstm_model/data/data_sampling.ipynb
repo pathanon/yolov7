{
 "cells": [
  {
   "cell_type": "code",
   "execution_count": 32,
   "metadata": {},
   "outputs": [],
   "source": [
    "import numpy as np\n",
    "import pandas as pd"
   ]
  },
  {
   "cell_type": "code",
   "execution_count": 90,
   "metadata": {},
   "outputs": [],
   "source": [
    "import re\n",
    "from tqdm import tqdm\n",
    "import math\n",
    "frame_width = 1920\n",
    "frame_height = 1080\n",
    "def append_features(data_frame,idx):\n",
    "    features_list = []\n",
    "    for kpts in data_frame.keys()[1:-1]:\n",
    "        features = data_frame.iloc[idx][kpts]\n",
    "        # print(kpts)\n",
    "        if kpts.split('_')[-1]==\"angle\":\n",
    "            features = float(features)\n",
    "            features *= (math.pi/360)\n",
    "        else:\n",
    "            features = turn2list(features)\n",
    "            features[0]/=frame_width\n",
    "            features[1]/=frame_height\n",
    "\n",
    "        features_list.append(features)\n",
    "    return np.concatenate(features_list, axis=None,dtype=np.float32)\n",
    "\n",
    "def append_step_features(data_frame,steps):\n",
    "    total = len(data_frame)-steps\n",
    "    df_dict = {}\n",
    "    df_times_collector = []\n",
    "    df_features_collector = []\n",
    "    df_actions_collector = []\n",
    "    for i in tqdm(range(total)):\n",
    "        ds = []\n",
    "        start_time = i\n",
    "        for j in range(steps):\n",
    "            ds.append(np.array(turn2list(data_frame.iloc[i+j]['features']),dtype=np.float32))\n",
    "        ds = np.stack(ds,axis=0)\n",
    "        stop_time = i+j\n",
    "\n",
    "        df_features_collector.append(ds)\n",
    "        df_actions_collector.append(data_frame.iloc[i+steps]['action'])\n",
    "        df_times_collector.append([start_time,stop_time])\n",
    "    \n",
    "    df_dict[\"times\"] = df_times_collector\n",
    "    df_dict[\"features\"] = df_features_collector\n",
    "    df_dict[\"action\"] = df_actions_collector\n",
    "\n",
    "    new_dataframe = pd.DataFrame(df_dict)\n",
    "    new_dataframe.to_csv(f\"features_steps_{steps}_.csv\",index=False)\n",
    "    return new_dataframe\n",
    "        \n",
    "\n",
    "def turn2list(input_string):\n",
    "    # Input string\n",
    "    input_string = str(input_string)\n",
    "    # Use regular expression to extract numbers\n",
    "    input_string = input_string.split('[')[-1]\n",
    "    input_string = input_string.split(']')[0]\n",
    "    numbers = input_string.split(' ')\n",
    "    # print(numbers)\n",
    "    number_list = []\n",
    "    for num in numbers:\n",
    "        if num!='':\n",
    "            if num.split(\"\\d\")!=0:\n",
    "                num = num.split(\"\\d\")[0]\n",
    "            number_list.append(float(num))\n",
    "    # Convert strings to float and create a list\n",
    "    return number_list\n",
    "\n",
    "def turn2list2(input_string):\n",
    "    # Input string\n",
    "    input_string = str(input_string)\n",
    "    # Use regular expression to extract numbers\n",
    "    input_string = input_string.split('[')[-1]\n",
    "    input_string = input_string.split(']')[0]\n",
    "    numbers = input_string.split(' ')\n",
    "    print(numbers)\n",
    "    number_list = []\n",
    "    for num in numbers:\n",
    "        if num!='':\n",
    "            if num.split(\"\\d\")!=0:\n",
    "                num = num.split(\"\\d\")[0]\n",
    "            number_list.append(float(num))\n",
    "    # Convert strings to float and create a list\n",
    "    return number_list\n"
   ]
  },
  {
   "cell_type": "code",
   "execution_count": 88,
   "metadata": {},
   "outputs": [
    {
     "name": "stdout",
     "output_type": "stream",
     "text": [
      "['4.09100e+01', '3.14500e+02', '4.70300e+01', '2.99750e+02', '3.88800e+01', '3.00750e+02\\n', '8.13800e+01', '3.02250e+02', '1.13750e+02', '3.00000e+02', '1.08750e+02', '3.95750e+02\\n', '1.51250e+02', '3.84750e+02', '1.17060e+02', '5.35000e+02', '1.22250e+02', '5.33000e+02\\n', '1.02690e+02', '6.51500e+02', '5.15300e+01', '5.98500e+02', '1.19380e+02', '6.40000e+02\\n', '1.76250e+02', '6.34500e+02', '1.95000e+01', '7.82500e+02', '1.53750e+02', '7.91000e+02\\n', '6.93800e+01', '9.56500e+02', '1.76620e+02', '9.62000e+02', '5.00000e-01', '2.21250e+02\\n', '2.32160e+02', '1.02416e+03', '1.90450e+02', '2.16130e+02']\n"
     ]
    },
    {
     "data": {
      "text/plain": [
       "[40.91,\n",
       " 314.5,\n",
       " 47.03,\n",
       " 299.75,\n",
       " 38.88,\n",
       " 300.75,\n",
       " 81.38,\n",
       " 302.25,\n",
       " 113.75,\n",
       " 300.0,\n",
       " 108.75,\n",
       " 395.75,\n",
       " 151.25,\n",
       " 384.75,\n",
       " 117.06,\n",
       " 535.0,\n",
       " 122.25,\n",
       " 533.0,\n",
       " 102.69,\n",
       " 651.5,\n",
       " 51.53,\n",
       " 598.5,\n",
       " 119.38,\n",
       " 640.0,\n",
       " 176.25,\n",
       " 634.5,\n",
       " 19.5,\n",
       " 782.5,\n",
       " 153.75,\n",
       " 791.0,\n",
       " 69.38,\n",
       " 956.5,\n",
       " 176.62,\n",
       " 962.0,\n",
       " 0.5,\n",
       " 221.25,\n",
       " 232.16,\n",
       " 1024.16,\n",
       " 190.45,\n",
       " 216.13]"
      ]
     },
     "execution_count": 88,
     "metadata": {},
     "output_type": "execute_result"
    }
   ],
   "source": [
    "turn2list(df.iloc[343]['features'])"
   ]
  },
  {
   "cell_type": "code",
   "execution_count": 95,
   "metadata": {},
   "outputs": [
    {
     "data": {
      "text/html": [
       "<div>\n",
       "<style scoped>\n",
       "    .dataframe tbody tr th:only-of-type {\n",
       "        vertical-align: middle;\n",
       "    }\n",
       "\n",
       "    .dataframe tbody tr th {\n",
       "        vertical-align: top;\n",
       "    }\n",
       "\n",
       "    .dataframe thead th {\n",
       "        text-align: right;\n",
       "    }\n",
       "</style>\n",
       "<table border=\"1\" class=\"dataframe\">\n",
       "  <thead>\n",
       "    <tr style=\"text-align: right;\">\n",
       "      <th></th>\n",
       "      <th>time</th>\n",
       "      <th>features</th>\n",
       "      <th>action</th>\n",
       "    </tr>\n",
       "  </thead>\n",
       "  <tbody>\n",
       "    <tr>\n",
       "      <th>0</th>\n",
       "      <td>0</td>\n",
       "      <td>[0.43203124 0.32222223 0.44010416 0.31064814 0...</td>\n",
       "      <td>walk</td>\n",
       "    </tr>\n",
       "    <tr>\n",
       "      <th>1</th>\n",
       "      <td>1</td>\n",
       "      <td>[0.43229166 0.32175925 0.44036457 0.3101852  0...</td>\n",
       "      <td>stand</td>\n",
       "    </tr>\n",
       "    <tr>\n",
       "      <th>2</th>\n",
       "      <td>2</td>\n",
       "      <td>[0.43203124 0.3210648  0.44036457 0.30972221 0...</td>\n",
       "      <td>stand</td>\n",
       "    </tr>\n",
       "    <tr>\n",
       "      <th>3</th>\n",
       "      <td>3</td>\n",
       "      <td>[0.43229166 0.3210648  0.44036457 0.30972221 0...</td>\n",
       "      <td>stand</td>\n",
       "    </tr>\n",
       "    <tr>\n",
       "      <th>4</th>\n",
       "      <td>4</td>\n",
       "      <td>[0.43229166 0.32083333 0.440625   0.30949074 0...</td>\n",
       "      <td>stand</td>\n",
       "    </tr>\n",
       "  </tbody>\n",
       "</table>\n",
       "</div>"
      ],
      "text/plain": [
       "   time                                           features action\n",
       "0     0  [0.43203124 0.32222223 0.44010416 0.31064814 0...   walk\n",
       "1     1  [0.43229166 0.32175925 0.44036457 0.3101852  0...  stand\n",
       "2     2  [0.43203124 0.3210648  0.44036457 0.30972221 0...  stand\n",
       "3     3  [0.43229166 0.3210648  0.44036457 0.30972221 0...  stand\n",
       "4     4  [0.43229166 0.32083333 0.440625   0.30949074 0...  stand"
      ]
     },
     "execution_count": 95,
     "metadata": {},
     "output_type": "execute_result"
    }
   ],
   "source": [
    "df = pd.read_csv(\"normalize_skeleton_data.csv\")\n",
    "df.head()"
   ]
  },
  {
   "cell_type": "code",
   "execution_count": 99,
   "metadata": {},
   "outputs": [
    {
     "name": "stderr",
     "output_type": "stream",
     "text": [
      "100%|██████████| 1251/1251 [00:01<00:00, 837.06it/s]\n"
     ]
    }
   ],
   "source": [
    "steps=10\n",
    "new_df=append_step_features(df,steps)"
   ]
  },
  {
   "cell_type": "code",
   "execution_count": null,
   "metadata": {},
   "outputs": [],
   "source": []
  }
 ],
 "metadata": {
  "kernelspec": {
   "display_name": "base",
   "language": "python",
   "name": "python3"
  },
  "language_info": {
   "codemirror_mode": {
    "name": "ipython",
    "version": 3
   },
   "file_extension": ".py",
   "mimetype": "text/x-python",
   "name": "python",
   "nbconvert_exporter": "python",
   "pygments_lexer": "ipython3",
   "version": "3.9.19"
  }
 },
 "nbformat": 4,
 "nbformat_minor": 2
}
