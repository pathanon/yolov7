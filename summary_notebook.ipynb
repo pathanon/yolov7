{
 "cells": [
  {
   "cell_type": "markdown",
   "metadata": {},
   "source": [
    "## Test : Action Recognition from Dudee-Indeed\n",
    "### Applicant : Nontaphat Sinsunthithet\n",
    "This notebook illustrates overview:\n",
    "1. Human Action Recognition methods using features extracted from YOLOv7 (keypoints of human body) \n",
    "    - YOLOv7 + rule-based\n",
    "    - YOLOv7 + LSTM (see more training detail on the provided path)\n",
    "2. Human Action Recognition methods including \n",
    "    - SlowFast (pretrained on AVA datasets)\n",
    "    - MMAction2 (pretrained on Kinetics datasets)\n",
    "\n"
   ]
  },
  {
   "cell_type": "markdown",
   "metadata": {},
   "source": [
    "# Video demo\n",
    "### YOLOv7 + rule-based\n",
    "https://www.youtube.com/watch?v=vQP71ruaAio\n",
    "### YOLOv7 + LSTM\n",
    "https://www.youtube.com/watch?v=IBzmanNiBUM"
   ]
  },
  {
   "cell_type": "markdown",
   "metadata": {},
   "source": [
    "### path to YOLOv7 + rule-based model\n",
    "- demo-vdo (pose estimation) : yolov7\\00_pose_estimation.mp4\n",
    "- demo-vdo (action recogntion) :  yolov7\\01_result_rule_action.mp4\n",
    "- pipeline code : yolov7\\pipeline_action_recognition.py\n",
    "- model-yolo-checkpoint : yolov7\\yolov7-w6-pose.pt\n",
    "\n",
    "### path to YOLOv7 + LSTM:\n",
    "- demo-vdo (action recogntion) : yolov7\\02_result_lstm_action.mp4\n",
    "- demo-vdo comparing to rule based : yolov7\\03_result_lstm_rule_action.mp4\n",
    "- pipeline code : yolov7\\pipeline_action_recognition_lstm.py\n",
    "- model-yolo-checkpoint : yolov7\\yolov7-w6-pose.pt\n",
    "- model-lstm-checkpoint : yolov7\\trained_lstm_model\\model_steps_5\\model\n",
    "\n",
    "### path to LSTM training:\n",
    "- yolov7\\trained_lstm_model\\training_LSTM.ipynb\n",
    "\n",
    "# path to SlowFast\n",
    "- demo-vdo (action recogntion) : SlowFast\\output_detections_test_SlowFast.mp4"
   ]
  }
 ],
 "metadata": {
  "language_info": {
   "name": "python"
  }
 },
 "nbformat": 4,
 "nbformat_minor": 2
}
